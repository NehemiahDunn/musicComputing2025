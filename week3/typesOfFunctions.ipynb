{
  "cells": [
    {
      "cell_type": "markdown",
      "metadata": {
        "id": "view-in-github",
        "colab_type": "text"
      },
      "source": [
        "<a href=\"https://colab.research.google.com/github/jcdevaney/musicComputing2025/blob/main/week3/typesOfFunctions.ipynb\" target=\"_parent\"><img src=\"https://colab.research.google.com/assets/colab-badge.svg\" alt=\"Open In Colab\"/></a>"
      ]
    },
    {
      "cell_type": "markdown",
      "source": [
        "# Types of Functions"
      ],
      "metadata": {
        "id": "D0IYBLyY_mJu"
      }
    },
    {
      "cell_type": "code",
      "execution_count": null,
      "metadata": {
        "colab": {
          "base_uri": "https://localhost:8080/"
        },
        "id": "Hmo8TKSy_k41",
        "outputId": "add19b32-260a-4c22-c949-7a62d7411a20"
      },
      "outputs": [
        {
          "output_type": "stream",
          "name": "stdout",
          "text": [
            "Cloning into 'musicComputing2025'...\n",
            "remote: Enumerating objects: 41, done.\u001b[K\n",
            "remote: Counting objects: 100% (41/41), done.\u001b[K\n",
            "remote: Compressing objects: 100% (37/37), done.\u001b[K\n",
            "remote: Total 41 (delta 12), reused 11 (delta 2), pack-reused 0 (from 0)\u001b[K\n",
            "Receiving objects: 100% (41/41), 3.18 MiB | 12.46 MiB/s, done.\n",
            "Resolving deltas: 100% (12/12), done.\n"
          ]
        }
      ],
      "source": [
        "# create a string\n",
        "!git clone https://github.com/jcdevaney/musicComputing2025.git\n",
        "filename = 'musicComputing2025/audioFiles/avm.wav'"
      ]
    },
    {
      "cell_type": "markdown",
      "source": [
        "## Example of a Built-in Function"
      ],
      "metadata": {
        "id": "eY9KIFBW_uoA"
      }
    },
    {
      "cell_type": "code",
      "execution_count": null,
      "metadata": {
        "colab": {
          "base_uri": "https://localhost:8080/"
        },
        "id": "PR5GDMWY_k43",
        "outputId": "306d49ed-a453-4c8c-a6f8-4e1423329507"
      },
      "outputs": [
        {
          "output_type": "stream",
          "name": "stdout",
          "text": [
            "musicComputing2025/audioFiles/avm.wav\n"
          ]
        }
      ],
      "source": [
        "# print string\n",
        "print(filename)"
      ]
    },
    {
      "cell_type": "markdown",
      "source": [
        "## Example of an Imported Function"
      ],
      "metadata": {
        "id": "jAgYSIlA_sCH"
      }
    },
    {
      "cell_type": "code",
      "execution_count": null,
      "metadata": {
        "id": "TpkhXzDH_k44"
      },
      "outputs": [],
      "source": [
        "# import a library and use a function from it\n",
        "import librosa\n",
        "sig , sr = librosa.load(filename)"
      ]
    },
    {
      "cell_type": "markdown",
      "source": [
        "## Examples of Built-in Methods"
      ],
      "metadata": {
        "id": "5Ihxgw6Z_21t"
      }
    },
    {
      "cell_type": "code",
      "execution_count": null,
      "metadata": {
        "colab": {
          "base_uri": "https://localhost:8080/",
          "height": 35
        },
        "id": "RPV32yzs_k44",
        "outputId": "4941803e-6ec7-44a4-fe0a-a6be10085486"
      },
      "outputs": [
        {
          "output_type": "execute_result",
          "data": {
            "text/plain": [
              "'Musiccomputing2025/audiofiles/avm.wav'"
            ],
            "application/vnd.google.colaboratory.intrinsic+json": {
              "type": "string"
            }
          },
          "metadata": {},
          "execution_count": 4
        }
      ],
      "source": [
        "# use a built in method of the string object\n",
        "filename.capitalize()"
      ]
    },
    {
      "cell_type": "code",
      "execution_count": null,
      "metadata": {
        "colab": {
          "base_uri": "https://localhost:8080/"
        },
        "id": "UKSOoAgT_k45",
        "outputId": "c6a07847-fba7-4f66-bc11-b2c0d91d3037"
      },
      "outputs": [
        {
          "output_type": "execute_result",
          "data": {
            "text/plain": [
              "False"
            ]
          },
          "metadata": {},
          "execution_count": 5
        }
      ],
      "source": [
        "filename.isnumeric()"
      ]
    },
    {
      "cell_type": "code",
      "execution_count": null,
      "metadata": {
        "colab": {
          "base_uri": "https://localhost:8080/",
          "height": 35
        },
        "id": "H_qovfAQ_k45",
        "outputId": "761417d3-65b3-4f36-9ae9-bc2946460e6e"
      },
      "outputs": [
        {
          "output_type": "execute_result",
          "data": {
            "text/plain": [
              "'MUSICCOMPUTING2025/AUDIOFILES/AVM.WAV'"
            ],
            "application/vnd.google.colaboratory.intrinsic+json": {
              "type": "string"
            }
          },
          "metadata": {},
          "execution_count": 6
        }
      ],
      "source": [
        "filename.upper()"
      ]
    }
  ],
  "metadata": {
    "kernelspec": {
      "display_name": "Python 3",
      "language": "python",
      "name": "python3"
    },
    "language_info": {
      "codemirror_mode": {
        "name": "ipython",
        "version": 3
      },
      "file_extension": ".py",
      "mimetype": "text/x-python",
      "name": "python",
      "nbconvert_exporter": "python",
      "pygments_lexer": "ipython3",
      "version": "3.6.4"
    },
    "colab": {
      "provenance": [],
      "include_colab_link": true
    }
  },
  "nbformat": 4,
  "nbformat_minor": 0
}