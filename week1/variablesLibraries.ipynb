{
  "nbformat": 4,
  "nbformat_minor": 0,
  "metadata": {
    "colab": {
      "provenance": [],
      "collapsed_sections": [
        "UgSwSiyK1nW6",
        "x1QAim5I2I-g",
        "2D7hNTPb2MPy"
      ],
      "authorship_tag": "ABX9TyNXbe8BrdBhOO8eWUnh2Iqp",
      "include_colab_link": true
    },
    "kernelspec": {
      "name": "python3",
      "display_name": "Python 3"
    },
    "language_info": {
      "name": "python"
    }
  },
  "cells": [
    {
      "cell_type": "markdown",
      "metadata": {
        "id": "view-in-github",
        "colab_type": "text"
      },
      "source": [
        "<a href=\"https://colab.research.google.com/github/jcdevaney/musicComputing2025/blob/main/week1/variablesLibraries.ipynb\" target=\"_parent\"><img src=\"https://colab.research.google.com/assets/colab-badge.svg\" alt=\"Open In Colab\"/></a>"
      ]
    },
    {
      "cell_type": "markdown",
      "source": [
        "# Variables"
      ],
      "metadata": {
        "id": "sRDbCDkX195H"
      }
    },
    {
      "cell_type": "markdown",
      "source": [
        "## Example Code"
      ],
      "metadata": {
        "id": "UgSwSiyK1nW6"
      }
    },
    {
      "cell_type": "code",
      "execution_count": null,
      "metadata": {
        "id": "DOF2qPUzf1o9"
      },
      "outputs": [],
      "source": [
        "# store 55 into a variable, we will use this later for a fundamental at 55 Hz\n",
        "fundamental = 55"
      ]
    },
    {
      "cell_type": "code",
      "source": [
        "# print the value of fundamental\n",
        "print(fundamental)"
      ],
      "metadata": {
        "colab": {
          "base_uri": "https://localhost:8080/"
        },
        "id": "DA-nvgnc1ZIU",
        "outputId": "bf1d7180-c7c3-4371-96f0-ca8baea24a95"
      },
      "execution_count": null,
      "outputs": [
        {
          "output_type": "stream",
          "name": "stdout",
          "text": [
            "55\n"
          ]
        }
      ]
    },
    {
      "cell_type": "code",
      "source": [
        "# calculate the value in hertz of the second partial (which is twice the fundamental)\n",
        "firstPartial = 55 * 2\n",
        "\n",
        "# print the value of the first partial\n",
        "print(firstPartial)"
      ],
      "metadata": {
        "colab": {
          "base_uri": "https://localhost:8080/"
        },
        "id": "hOqDPDxE1a48",
        "outputId": "6f61e250-6efd-4c34-c954-cf648dde6e6e"
      },
      "execution_count": null,
      "outputs": [
        {
          "output_type": "stream",
          "name": "stdout",
          "text": [
            "110\n"
          ]
        }
      ]
    },
    {
      "cell_type": "markdown",
      "source": [
        "# Libraries"
      ],
      "metadata": {
        "id": "UVPzEmTQ2FOb"
      }
    },
    {
      "cell_type": "markdown",
      "source": [
        "## Example Code"
      ],
      "metadata": {
        "id": "x1QAim5I2I-g"
      }
    },
    {
      "cell_type": "code",
      "source": [
        "# import the math library to have access to the log (logarithmic) function\n",
        "import math\n",
        "\n",
        "# cents divide an octave into 1200, 100 cents per semitone\n",
        "# this corresponds to the way we hear pitch better than hertz\n",
        "\n",
        "# math.log(3/2) - take the log of the frequency (hz) higher partial\n",
        "#       divided by the frequency (hz) of the lower partial\n",
        "# the rest of the equation is normalizing it so that it in relation to an octave\n",
        "# -  multiple by 1200 because there are 12 cents per octave\n",
        "# - divide by the log of 2  because the ratio of the octave is 2/1 (double)\n",
        "\n",
        "cents = math.log(165/110) * 1200 / math.log(2)\n",
        "print(cents)"
      ],
      "metadata": {
        "colab": {
          "base_uri": "https://localhost:8080/"
        },
        "id": "bzfqHhwG1d95",
        "outputId": "4c460e55-1a4f-4850-99a9-578ff1742903"
      },
      "execution_count": null,
      "outputs": [
        {
          "output_type": "stream",
          "name": "stdout",
          "text": [
            "701.9550008653874\n"
          ]
        }
      ]
    },
    {
      "cell_type": "markdown",
      "source": [
        "## Exercise\n",
        "### Calculate the difference in cents between the fundamental (55 Hz) and partials 1 through 5\n",
        "##### Uncomment and finish the lines of code below"
      ],
      "metadata": {
        "id": "2D7hNTPb2MPy"
      }
    },
    {
      "cell_type": "code",
      "source": [
        "# first calculate the values in hertz for all of the partials\n",
        "# fundamental and firstPartial are defined above\n",
        "secondPartial = 55 * 3\n",
        "#thirdPartial =\n",
        "#fourthPartial =\n",
        "#fifthPartial ="
      ],
      "metadata": {
        "id": "VS7-hgqz1w5B"
      },
      "execution_count": null,
      "outputs": []
    },
    {
      "cell_type": "code",
      "source": [
        "# then calculate the difference between each partial and the fundamental in each partial\n",
        "firstInterval = math.log(firstPartial/fundamental) * 1200 / math.log(2)\n",
        "# secondInterval =\n",
        "# thirdInterval =\n",
        "# fourthInterval =\n",
        "# fifthInterval ="
      ],
      "metadata": {
        "id": "897lELxRSqgf"
      },
      "execution_count": null,
      "outputs": []
    }
  ]
}