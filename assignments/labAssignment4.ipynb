{
  "nbformat": 4,
  "nbformat_minor": 0,
  "metadata": {
    "colab": {
      "provenance": [],
      "authorship_tag": "ABX9TyN0GxP3/Tiac/vzJ11nqY+k",
      "include_colab_link": true
    },
    "kernelspec": {
      "name": "python3",
      "display_name": "Python 3"
    },
    "language_info": {
      "name": "python"
    }
  },
  "cells": [
    {
      "cell_type": "markdown",
      "metadata": {
        "id": "view-in-github",
        "colab_type": "text"
      },
      "source": [
        "<a href=\"https://colab.research.google.com/github/jcdevaney/musicComputing2025/blob/main/assignments/labAssignment4.ipynb\" target=\"_parent\"><img src=\"https://colab.research.google.com/assets/colab-badge.svg\" alt=\"Open In Colab\"/></a>"
      ]
    },
    {
      "cell_type": "code",
      "execution_count": null,
      "metadata": {
        "id": "MIwOrFnLQsi7"
      },
      "outputs": [],
      "source": [
        "import numpy as np\n",
        "import matplotlib.pyplot as plt\n",
        "import librosa\n",
        "import librosa.display\n",
        "import IPython.display"
      ]
    },
    {
      "cell_type": "code",
      "source": [
        "def plotAudio2(sig,sampleRate,title):\n",
        "\n",
        "    # from Assignment 2/Google Doc\n"
      ],
      "metadata": {
        "id": "UhHY5gfiRIDf"
      },
      "execution_count": null,
      "outputs": []
    },
    {
      "cell_type": "code",
      "source": [
        "def plotAudioFreqDomain():\n",
        "\n",
        "    # from Assignment 3"
      ],
      "metadata": {
        "id": "da2LkB5ORI3G"
      },
      "execution_count": null,
      "outputs": []
    },
    {
      "cell_type": "code",
      "source": [
        "def additiveSynthesis(samplingRate,frequency,numHarmonics,seqHarm,ampExponent):\n",
        "\n",
        "   # from additiveSynthesis.ipynb"
      ],
      "metadata": {
        "id": "QBLS6mXhRVsB"
      },
      "execution_count": null,
      "outputs": []
    },
    {
      "cell_type": "code",
      "source": [
        "def makeWaveforms(frequency,samplingRate,numHarmonics,waveType):\n",
        "    # use an if/elif/else statement to set up the parameters for\n",
        "    # the different type of waveforms based on the code in\n",
        "    # additiveSynthesis.ipynb\n",
        "    # if, elif (else if) and else can be used to evaluate the contents of a variable\n",
        "\n",
        "\n",
        "    # call additiveSynthesis() to generate a waveform\n",
        "\n",
        "    # return the generated waveform (signal)\n",
        "\n"
      ],
      "metadata": {
        "id": "Xg02ng-gWYQy"
      },
      "execution_count": null,
      "outputs": []
    },
    {
      "cell_type": "code",
      "source": [
        "def visualizeWaveforms(frequency, samplingRate, numHarmonics, waveType):\n",
        "  # call makeWaveform()\n",
        "  # test whether makeWaveforms() runs without error before you try plotting anything\n",
        "\n",
        "  # call plotAudio2()\n",
        "\n",
        "  # call plotAudioFreqDomain()\n",
        "\n",
        "  # return the output of makeWaveform()"
      ],
      "metadata": {
        "id": "SunRmpf6Wn63"
      },
      "execution_count": null,
      "outputs": []
    },
    {
      "cell_type": "code",
      "source": [
        "frequency = 100\n",
        "samplingRate = 44100\n",
        "numHarmonics = 100\n",
        "waveType = 'sine'\n",
        "winSize = 1024\n",
        "specType = 'log'\n",
        "\n",
        "#visualizeWaveforms()\n",
        "#IPython.display.Audio()"
      ],
      "metadata": {
        "id": "MBNM9MMwSV2r"
      },
      "execution_count": null,
      "outputs": []
    },
    {
      "cell_type": "code",
      "source": [
        "frequency = 100\n",
        "samplingRate = 44100\n",
        "numHarmonics = 100\n",
        "waveType = 'sawtooth'\n",
        "winSize = 1024\n",
        "specType = 'log'\n",
        "\n",
        "#visualizeWaveforms()\n",
        "#IPython.display.Audio()"
      ],
      "metadata": {
        "id": "GKWxd4dHWG_B"
      },
      "execution_count": null,
      "outputs": []
    },
    {
      "cell_type": "code",
      "source": [
        "frequency = 100\n",
        "samplingRate = 44100\n",
        "numHarmonics = 100\n",
        "waveType = 'triangle'\n",
        "winSize = 1024\n",
        "specType = 'log'\n",
        "\n",
        "#visualizeWaveforms()\n",
        "#IPython.display.Audio()"
      ],
      "metadata": {
        "id": "goh3AlgaWLMq"
      },
      "execution_count": null,
      "outputs": []
    },
    {
      "cell_type": "code",
      "source": [
        "frequency = 100\n",
        "samplingRate = 44100\n",
        "numHarmonics = 100\n",
        "waveType = 'square'\n",
        "winSize = 1024\n",
        "specType = 'log'\n",
        "\n",
        "#visualizeWaveforms()\n",
        "#IPython.display.Audio()"
      ],
      "metadata": {
        "id": "GB4BGoA3WQhv"
      },
      "execution_count": null,
      "outputs": []
    }
  ]
}